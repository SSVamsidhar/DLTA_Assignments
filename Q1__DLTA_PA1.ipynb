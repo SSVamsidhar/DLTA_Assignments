{
  "nbformat": 4,
  "nbformat_minor": 0,
  "metadata": {
    "colab": {
      "name": "Q1_ DLTA_PA1.ipynb",
      "version": "0.3.2",
      "provenance": [],
      "private_outputs": true,
      "collapsed_sections": []
    },
    "kernelspec": {
      "name": "python3",
      "display_name": "Python 3"
    },
    "accelerator": "GPU"
  },
  "cells": [
    {
      "cell_type": "markdown",
      "metadata": {
        "id": "_Dp1f-wa7Ym7",
        "colab_type": "text"
      },
      "source": [
        "**Loading Our DataSet**"
      ]
    },
    {
      "cell_type": "code",
      "metadata": {
        "id": "II80b_rVJGED",
        "colab_type": "code",
        "colab": {}
      },
      "source": [
        "import torch\n",
        "(x_train, y_train, x_test, y_test)=torch.load('mnist.pt')\n",
        "#(x_train, y_train, x_test, y_test)=torch.load('../cifar10.pt')"
      ],
      "execution_count": 0,
      "outputs": []
    },
    {
      "cell_type": "markdown",
      "metadata": {
        "id": "quBwPW3I7yvG",
        "colab_type": "text"
      },
      "source": [
        "**Reshaping our datasets, such that our inputs will be a 784 dimensional feature vectors**"
      ]
    },
    {
      "cell_type": "code",
      "metadata": {
        "id": "jPbLuzrAMemW",
        "colab_type": "code",
        "colab": {}
      },
      "source": [
        "data_train = x_train.reshape(x_train.shape[0],-1)\n",
        "data_test = x_test.reshape(x_test.shape[0],-1)"
      ],
      "execution_count": 0,
      "outputs": []
    },
    {
      "cell_type": "markdown",
      "metadata": {
        "id": "LBI7pf_98OjS",
        "colab_type": "text"
      },
      "source": [
        "**Defining a function called KNearestNeighbour, to implement K-NearestNeighbour  Algorithm**"
      ]
    },
    {
      "cell_type": "markdown",
      "metadata": {
        "id": "Awkz1S1N8xdS",
        "colab_type": "text"
      },
      "source": [
        "**Steps:\n",
        "For K=1 case**\n",
        "\n",
        "1. Take one test sample at a time and find the euclidean distance with respect all the training samples.\n",
        "2. Sort the distances in order and take out the minimum distance.\n",
        "3. Find the training sample with which our test sample is giving minimum distance.\n",
        "4. Find the corresponding label of that training sample and assign it to our test sample. Such that we are classifying our test sample into the class of training sample which is giving  minimum distance.\n",
        "5. Iterate from step one to step 4 for all the samples in test set.\n",
        "6. Find the class labels for all the test samples and these are our predicted classes for the given test samples.\n",
        "\n",
        "\n",
        "***For K>1 Case ***\n",
        "\n",
        "1. Take one test sample at a time and find the euclidean distance with respect all the training samples.\n",
        "2. Sort the distances in order and take out top K minimum distances from that order.\n",
        "3. Find the K no.of  training samples with which our test sample is giving those K no.of minimum distances.\n",
        "4. Find the corresponding labels of that training samples and  assign the class label to our test sample which occurs more frequent. \n",
        "5. Iterate from step one to step 4 for all the samples in test set.\n",
        "6. Find the class labels for all the test samples and these are our predicted classes for the given test samples.\n",
        "\n",
        "\n",
        "\n",
        "\n",
        "\n"
      ]
    },
    {
      "cell_type": "code",
      "metadata": {
        "id": "acwEUUgZnwkt",
        "colab_type": "code",
        "colab": {}
      },
      "source": [
        "import numpy as np\n",
        "def KNearestNeighbour(data_train, data_test,k):\n",
        "  k=k\n",
        "  y_pred = torch.zeros(100)\n",
        "  pred_label = torch.zeros(k)\n",
        "  label = [0,0,0]\n",
        "  for i in range(data_test.shape[0]):\n",
        "    dis = torch.abs(data_train - data_test[i,:])\n",
        "    distance = torch.sum(dis, dim=1)\n",
        "    dist = torch.argsort(distance)\n",
        "    for r in range(k):\n",
        "       pred_label[r] = y_train[dist[r]]\n",
        "        \n",
        "    q = pred_label\n",
        "    l = q.tolist()\n",
        "    cnt = torch.zeros(k)\n",
        "    b =[]\n",
        "    for f in range(k):\n",
        "      cnt[f] = l.count(l[f])\n",
        "    if k==1 or k>1:  \n",
        "    \n",
        "      if np.unique(cnt).size == len(cnt) :\n",
        "        y_pred[i] = y_train[dist[0]]       \n",
        "      else:  \n",
        "    \n",
        "        pred = torch.argmax(cnt)\n",
        "        y_pred[i] = q[pred]\n",
        "    elif k>1:\n",
        "      for i in range(k):  \n",
        "        if max(cnt) == cnt[i]:\n",
        "          b.append(l[i])\n",
        "      c = np.unique(b)\n",
        "      c1 = c[0]\n",
        "      c2 = c[1]\n",
        "      cc1 = torch.abs(data_train[c1] - data_test[i,:])\n",
        "      cc2 = torch.abs(data_train[c2] - data_test[i,:])\n",
        "      d1 = torch.sum(cc1, dim=1)\n",
        "      d2 = torch.sum(cc2, dim=1)\n",
        "      if  d1 > d2:\n",
        "        y_pred[i] = c[1]\n",
        "      else:\n",
        "        y_pred[i] = c[0]\n",
        "  \n",
        "  return y_pred\n",
        "  \n",
        "  "
      ],
      "execution_count": 0,
      "outputs": []
    },
    {
      "cell_type": "code",
      "metadata": {
        "id": "cmpsqb-q-WyO",
        "colab_type": "code",
        "colab": {}
      },
      "source": [
        "\n",
        "k = int(input('enter K value:'))"
      ],
      "execution_count": 0,
      "outputs": []
    },
    {
      "cell_type": "code",
      "metadata": {
        "id": "OedA1cB435Lh",
        "colab_type": "code",
        "colab": {}
      },
      "source": [
        "p = KNearestNeighbour(data_train, data_test,k)\n",
        "print(p)"
      ],
      "execution_count": 0,
      "outputs": []
    },
    {
      "cell_type": "markdown",
      "metadata": {
        "id": "1sbSHWmNC815",
        "colab_type": "text"
      },
      "source": [
        "**Using SKlearn Library, We are finding Confusion_Matrix and Accuracy Score for our Predicted Test class labels and Actual Labels**"
      ]
    },
    {
      "cell_type": "code",
      "metadata": {
        "id": "WqaNs2W3341N",
        "colab_type": "code",
        "colab": {}
      },
      "source": [
        "import sklearn\n",
        "\n",
        "from sklearn.metrics import confusion_matrix,accuracy_score\n",
        "\n",
        "confusion_matrix(y_test, p)\n"
      ],
      "execution_count": 0,
      "outputs": []
    },
    {
      "cell_type": "code",
      "metadata": {
        "id": "mZg_UBqn4BZs",
        "colab_type": "code",
        "colab": {}
      },
      "source": [
        "accuracy_score(y_test, p)"
      ],
      "execution_count": 0,
      "outputs": []
    },
    {
      "cell_type": "code",
      "metadata": {
        "id": "RGUogfbb-nkJ",
        "colab_type": "code",
        "colab": {}
      },
      "source": [
        ""
      ],
      "execution_count": 0,
      "outputs": []
    }
  ]
}